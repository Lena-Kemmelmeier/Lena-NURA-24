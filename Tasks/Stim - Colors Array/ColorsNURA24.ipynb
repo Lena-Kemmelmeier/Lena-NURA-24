{
  "nbformat": 4,
  "nbformat_minor": 0,
  "metadata": {
    "colab": {
      "provenance": []
    },
    "kernelspec": {
      "name": "python3",
      "display_name": "Python 3"
    },
    "language_info": {
      "name": "python"
    }
  },
  "cells": [
    {
      "cell_type": "code",
      "execution_count": null,
      "metadata": {
        "id": "JzZjqcWj0syb"
      },
      "outputs": [],
      "source": [
        "# !pip install colorspacious\n",
        "# !pip install --upgrade colorspacious\n",
        "\n",
        "import numpy as np\n",
        "import scipy.io\n",
        "import colorspacious as cs\n",
        "\n",
        "def generate_lab_circle(center, radius, num_points=360):\n",
        "    angles = np.linspace(0, 2 * np.pi, num_points, endpoint=False)\n",
        "    lab_values = np.zeros((num_points, 3))\n",
        "\n",
        "    for i, angle in enumerate(angles):\n",
        "        lab_values[i, 0] = center[0]\n",
        "        lab_values[i, 1] = center[1] + radius * np.cos(angle)\n",
        "        lab_values[i, 2] = center[2] + radius * np.sin(angle)\n",
        "\n",
        "    return lab_values\n",
        "\n",
        "# Center of the circle\n",
        "center_lab = (70, 20, 38)\n",
        "\n",
        "# Radius of the circle\n",
        "radius = 60\n",
        "\n",
        "# Number of points around the circle\n",
        "num_points = 360\n",
        "\n",
        "# Generate the LAB values for the points along the circle\n",
        "lab_circle_values = generate_lab_circle(center_lab, radius, num_points)\n",
        "\n",
        "# Ensure all LAB values are within valid ranges\n",
        "lab_circle_values[:, 1:] = np.clip(lab_circle_values[:, 1:], -128, 128)\n",
        "\n",
        "# Convert LAB values to RGB using colorspacious\n",
        "rgb_values = cs.cspace_convert(lab_circle_values, start=\"CIELab\", end=\"sRGB1\")\n",
        "\n",
        "# Convert RGB values to the range [0, 255]\n",
        "rgb_values = np.clip(rgb_values * 255, 0, 255).astype(np.uint8)\n",
        "\n",
        "# Print the RGB values\n",
        "# for rgb in rgb_values:\n",
        "#     print(rgb)"
      ]
    },
    {
      "cell_type": "code",
      "source": [
        "rgb_values\n",
        "\n",
        "# save these colors values to a mat file, these will be loaded in to our experiment to make the color wheel\n",
        "scipy.io.savemat('originalcolorwheelCIE.mat', {'fullcolormatrix':rgb_values})"
      ],
      "metadata": {
        "id": "EGJIOYfv6gs7"
      },
      "execution_count": null,
      "outputs": []
    }
  ]
}